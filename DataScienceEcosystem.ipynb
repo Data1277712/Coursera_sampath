{
  "cells": [
    {
      "cell_type": "markdown",
      "metadata": {
        "id": "view-in-github",
        "colab_type": "text"
      },
      "source": [
        "<a href=\"https://colab.research.google.com/github/Data1277712/Coursera_sampath/blob/main/DataScienceEcosystem.ipynb\" target=\"_parent\"><img src=\"https://colab.research.google.com/assets/colab-badge.svg\" alt=\"Open In Colab\"/></a>"
      ]
    },
    {
      "cell_type": "markdown",
      "metadata": {
        "id": "0hDFCd_ZXChv"
      },
      "source": [
        "<center>\n",
        "    <img src=\"https://cf-courses-data.s3.us.cloud-object-storage.appdomain.cloud/IBMDeveloperSkillsNetwork-DS0105EN-SkillsNetwork/labs/Module2/images/SN_web_lightmode.png\" width=\"300\" alt=\"cognitiveclass.ai logo\">\n",
        "</center>\n"
      ]
    },
    {
      "cell_type": "markdown",
      "metadata": {
        "id": "6NG2I6lwXCiA"
      },
      "source": [
        "#### Add your code below following the instructions given in the course\n"
      ]
    },
    {
      "cell_type": "markdown",
      "source": [
        "# **Data Science Tools and Ecosystem**\n",
        "\n",
        "\n"
      ],
      "metadata": {
        "id": "CuEEbwi9YX7Y"
      }
    },
    {
      "cell_type": "markdown",
      "source": [
        "This notebook is a demonstration of **data science** skills using Jupyterlite Notebook. I will use various languages, libraries, and tools to perform some basic tasks and calculations"
      ],
      "metadata": {
        "id": "Zem5UYNObiv3"
      }
    },
    {
      "cell_type": "markdown",
      "source": [
        "**Some of the popular languages that Data Scientists use are:**\n",
        "\n",
        "Python\n",
        "\n",
        "R\n",
        "\n",
        "Java\n",
        "\n",
        "Julia\n",
        "\n",
        "Matlab\n"
      ],
      "metadata": {
        "id": "lUHG3_U3bkc5"
      }
    },
    {
      "cell_type": "markdown",
      "source": [
        "**Some of the commonly used libraries used by Data Scientists include:**\n",
        "\n",
        "Pandas\n",
        "\n",
        "numpy\n",
        "\n",
        "matplotlib\n",
        "\n",
        "seaborn\n",
        "\n",
        "scikit-learn\n",
        "\n",
        "Tensorflow\n",
        "\n",
        "pytorch\n",
        "\n",
        "opencv"
      ],
      "metadata": {
        "id": "gnf6DFPNe5c9"
      }
    },
    {
      "cell_type": "markdown",
      "source": [
        "|    Data Science Tools                     |    \n",
        "|-------------------------------------------|\n",
        "| Jupyter Notebooks                         |\n",
        "|RStudio                                    |\n",
        "|Google Colab                               |"
      ],
      "metadata": {
        "id": "W2Xc6mBxgSJj"
      }
    },
    {
      "cell_type": "markdown",
      "source": [
        "# Below are a few examples of evaluating arithmetic expressions in Python:\n",
        "\n",
        "Arithmetic expressions are combinations of numbers and operators that can be evaluated to a single value. They can be used in code cells to perform calculations and assign values to variables."
      ],
      "metadata": {
        "id": "MV_wIciPjEv2"
      }
    },
    {
      "cell_type": "code",
      "source": [
        "#This a simple arithmetic expression to mutiply then add integers.\n",
        "result=(3 * 4) + 5\n",
        "result"
      ],
      "metadata": {
        "colab": {
          "base_uri": "https://localhost:8080/"
        },
        "id": "VQ60kcPJjTZ8",
        "outputId": "31a5845d-1a5b-4828-9061-1e0e4cdc0aaf"
      },
      "execution_count": 2,
      "outputs": [
        {
          "output_type": "execute_result",
          "data": {
            "text/plain": [
              "17"
            ]
          },
          "metadata": {},
          "execution_count": 2
        }
      ]
    },
    {
      "cell_type": "code",
      "source": [
        "# This will convert 200 minutes to hours by diving by 60\n",
        "minutes=200\n",
        "hours=minutes/60\n",
        "hours"
      ],
      "metadata": {
        "colab": {
          "base_uri": "https://localhost:8080/"
        },
        "id": "D-7NqU7qkNp6",
        "outputId": "978951c4-1ee3-4ddb-c965-bd6cd6387f50"
      },
      "execution_count": 5,
      "outputs": [
        {
          "output_type": "execute_result",
          "data": {
            "text/plain": [
              "3.3333333333333335"
            ]
          },
          "metadata": {},
          "execution_count": 5
        }
      ]
    },
    {
      "cell_type": "markdown",
      "source": [
        "**Objectives:**\n",
        "\n",
        "\n",
        "- Explore popular languages for Data Science\n",
        "- Understand basic arithmetic operations in Python\n",
        "- Learn to convert units using Python expressions\n",
        "- Create a table in markdown to display information\n",
        "- Familiarize with key concepts covered in the course\n"
      ],
      "metadata": {
        "id": "CU6cnEdxlsO2"
      }
    },
    {
      "cell_type": "markdown",
      "source": [
        "##Author\n",
        "\n",
        "Suthari Sampath"
      ],
      "metadata": {
        "id": "FPlDPrO2vH5Z"
      }
    },
    {
      "cell_type": "code",
      "source": [],
      "metadata": {
        "id": "HpIV5BQ-vLNu"
      },
      "execution_count": null,
      "outputs": []
    }
  ],
  "metadata": {
    "kernelspec": {
      "display_name": "Python",
      "language": "python",
      "name": "conda-env-python-py"
    },
    "language_info": {
      "name": ""
    },
    "colab": {
      "provenance": [],
      "include_colab_link": true
    }
  },
  "nbformat": 4,
  "nbformat_minor": 0
}